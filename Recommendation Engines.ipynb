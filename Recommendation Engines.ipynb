{
 "cells": [
  {
   "cell_type": "markdown",
   "metadata": {},
   "source": [
    "# Preparing data"
   ]
  },
  {
   "cell_type": "markdown",
   "metadata": {},
   "source": [
    "## Loading the dataset for experiments"
   ]
  },
  {
   "cell_type": "markdown",
   "metadata": {},
   "source": [
    "In this homework, I used another dataset - **BookCrossing**.\n",
    "It can be downloaded from  \n",
    "http://www2.informatik.uni-freiburg.de/~cziegler/BX/BX-CSV-Dump.zip.\n",
    "\n"
   ]
  },
  {
   "cell_type": "code",
   "execution_count": 1,
   "metadata": {},
   "outputs": [],
   "source": [
    "from bookcrossing import get_bx_data\n",
    "%matplotlib inline"
   ]
  },
  {
   "cell_type": "code",
   "execution_count": 2,
   "metadata": {},
   "outputs": [],
   "source": [
    "bx_data, bx_books_meta = get_bx_data('BX-CSV-Dump.zip', get_books=True)"
   ]
  },
  {
   "cell_type": "code",
   "execution_count": 3,
   "metadata": {},
   "outputs": [
    {
     "data": {
      "text/plain": [
       "1149780"
      ]
     },
     "execution_count": 3,
     "metadata": {},
     "output_type": "execute_result"
    }
   ],
   "source": [
    "len(bx_data)"
   ]
  },
  {
   "cell_type": "code",
   "execution_count": 4,
   "metadata": {},
   "outputs": [
    {
     "data": {
      "text/html": [
       "<div>\n",
       "<style scoped>\n",
       "    .dataframe tbody tr th:only-of-type {\n",
       "        vertical-align: middle;\n",
       "    }\n",
       "\n",
       "    .dataframe tbody tr th {\n",
       "        vertical-align: top;\n",
       "    }\n",
       "\n",
       "    .dataframe thead th {\n",
       "        text-align: right;\n",
       "    }\n",
       "</style>\n",
       "<table border=\"1\" class=\"dataframe\">\n",
       "  <thead>\n",
       "    <tr style=\"text-align: right;\">\n",
       "      <th></th>\n",
       "      <th>userid</th>\n",
       "      <th>isbn</th>\n",
       "      <th>rating</th>\n",
       "    </tr>\n",
       "  </thead>\n",
       "  <tbody>\n",
       "    <tr>\n",
       "      <th>0</th>\n",
       "      <td>276725</td>\n",
       "      <td>034545104X</td>\n",
       "      <td>0</td>\n",
       "    </tr>\n",
       "    <tr>\n",
       "      <th>1</th>\n",
       "      <td>276726</td>\n",
       "      <td>0155061224</td>\n",
       "      <td>5</td>\n",
       "    </tr>\n",
       "    <tr>\n",
       "      <th>2</th>\n",
       "      <td>276727</td>\n",
       "      <td>0446520802</td>\n",
       "      <td>0</td>\n",
       "    </tr>\n",
       "    <tr>\n",
       "      <th>3</th>\n",
       "      <td>276729</td>\n",
       "      <td>052165615X</td>\n",
       "      <td>3</td>\n",
       "    </tr>\n",
       "    <tr>\n",
       "      <th>4</th>\n",
       "      <td>276729</td>\n",
       "      <td>0521795028</td>\n",
       "      <td>6</td>\n",
       "    </tr>\n",
       "  </tbody>\n",
       "</table>\n",
       "</div>"
      ],
      "text/plain": [
       "   userid        isbn  rating\n",
       "0  276725  034545104X       0\n",
       "1  276726  0155061224       5\n",
       "2  276727  0446520802       0\n",
       "3  276729  052165615X       3\n",
       "4  276729  0521795028       6"
      ]
     },
     "execution_count": 4,
     "metadata": {},
     "output_type": "execute_result"
    }
   ],
   "source": [
    "bx_data.head()"
   ]
  },
  {
   "cell_type": "code",
   "execution_count": 5,
   "metadata": {},
   "outputs": [
    {
     "data": {
      "text/html": [
       "<div>\n",
       "<style scoped>\n",
       "    .dataframe tbody tr th:only-of-type {\n",
       "        vertical-align: middle;\n",
       "    }\n",
       "\n",
       "    .dataframe tbody tr th {\n",
       "        vertical-align: top;\n",
       "    }\n",
       "\n",
       "    .dataframe thead th {\n",
       "        text-align: right;\n",
       "    }\n",
       "</style>\n",
       "<table border=\"1\" class=\"dataframe\">\n",
       "  <thead>\n",
       "    <tr style=\"text-align: right;\">\n",
       "      <th></th>\n",
       "      <th>isbn</th>\n",
       "      <th>author</th>\n",
       "      <th>publisher</th>\n",
       "    </tr>\n",
       "  </thead>\n",
       "  <tbody>\n",
       "    <tr>\n",
       "      <th>0</th>\n",
       "      <td>0195153448</td>\n",
       "      <td>Mark P. O. Morford</td>\n",
       "      <td>Oxford University Press</td>\n",
       "    </tr>\n",
       "    <tr>\n",
       "      <th>1</th>\n",
       "      <td>0002005018</td>\n",
       "      <td>Richard Bruce Wright</td>\n",
       "      <td>HarperFlamingo Canada</td>\n",
       "    </tr>\n",
       "    <tr>\n",
       "      <th>2</th>\n",
       "      <td>0060973129</td>\n",
       "      <td>Carlo D'Este</td>\n",
       "      <td>HarperPerennial</td>\n",
       "    </tr>\n",
       "    <tr>\n",
       "      <th>3</th>\n",
       "      <td>0374157065</td>\n",
       "      <td>Gina Bari Kolata</td>\n",
       "      <td>Farrar Straus Giroux</td>\n",
       "    </tr>\n",
       "    <tr>\n",
       "      <th>4</th>\n",
       "      <td>0393045218</td>\n",
       "      <td>E. J. W. Barber</td>\n",
       "      <td>W. W. Norton &amp;amp; Company</td>\n",
       "    </tr>\n",
       "  </tbody>\n",
       "</table>\n",
       "</div>"
      ],
      "text/plain": [
       "         isbn                author                   publisher\n",
       "0  0195153448    Mark P. O. Morford     Oxford University Press\n",
       "1  0002005018  Richard Bruce Wright       HarperFlamingo Canada\n",
       "2  0060973129          Carlo D'Este             HarperPerennial\n",
       "3  0374157065      Gina Bari Kolata        Farrar Straus Giroux\n",
       "4  0393045218       E. J. W. Barber  W. W. Norton &amp; Company"
      ]
     },
     "execution_count": 5,
     "metadata": {},
     "output_type": "execute_result"
    }
   ],
   "source": [
    "bx_books_meta.head()"
   ]
  },
  {
   "cell_type": "code",
   "execution_count": 6,
   "metadata": {},
   "outputs": [
    {
     "data": {
      "text/plain": [
       "0     716109\n",
       "8     103736\n",
       "10     78610\n",
       "7      76457\n",
       "9      67541\n",
       "5      50974\n",
       "6      36924\n",
       "4       8904\n",
       "3       5996\n",
       "2       2759\n",
       "1       1770\n",
       "Name: rating, dtype: int64"
      ]
     },
     "execution_count": 6,
     "metadata": {},
     "output_type": "execute_result"
    }
   ],
   "source": [
    "bx_data.rating.value_counts()"
   ]
  },
  {
   "cell_type": "code",
   "execution_count": 7,
   "metadata": {},
   "outputs": [
    {
     "name": "stdout",
     "output_type": "stream",
     "text": [
      "59517\n",
      "246724\n",
      "77805\n",
      "185973\n"
     ]
    }
   ],
   "source": [
    "print(bx_data.query('rating==0').userid.nunique())\n",
    "print(bx_data.query('rating==0').isbn.nunique())\n",
    "print(bx_data.query('rating>0').userid.nunique())\n",
    "print(bx_data.query('rating>0').isbn.nunique())"
   ]
  },
  {
   "cell_type": "markdown",
   "metadata": {},
   "source": [
    "## Example: selecting the implicit part"
   ]
  },
  {
   "cell_type": "code",
   "execution_count": 37,
   "metadata": {},
   "outputs": [],
   "source": [
    "explicit_data = bx_data.query('rating>0') # or just bx_data.query('rating>0') for explicit part"
   ]
  },
  {
   "cell_type": "code",
   "execution_count": 38,
   "metadata": {},
   "outputs": [
    {
     "data": {
      "text/plain": [
       "(1149780, 3)"
      ]
     },
     "execution_count": 38,
     "metadata": {},
     "output_type": "execute_result"
    }
   ],
   "source": [
    "bx_data.shape"
   ]
  },
  {
   "cell_type": "code",
   "execution_count": 39,
   "metadata": {},
   "outputs": [
    {
     "data": {
      "text/plain": [
       "(433671, 3)"
      ]
     },
     "execution_count": 39,
     "metadata": {},
     "output_type": "execute_result"
    }
   ],
   "source": [
    "explicit_data.shape"
   ]
  },
  {
   "cell_type": "code",
   "execution_count": 40,
   "metadata": {},
   "outputs": [
    {
     "data": {
      "text/html": [
       "<div>\n",
       "<style scoped>\n",
       "    .dataframe tbody tr th:only-of-type {\n",
       "        vertical-align: middle;\n",
       "    }\n",
       "\n",
       "    .dataframe tbody tr th {\n",
       "        vertical-align: top;\n",
       "    }\n",
       "\n",
       "    .dataframe thead th {\n",
       "        text-align: right;\n",
       "    }\n",
       "</style>\n",
       "<table border=\"1\" class=\"dataframe\">\n",
       "  <thead>\n",
       "    <tr style=\"text-align: right;\">\n",
       "      <th></th>\n",
       "      <th>userid</th>\n",
       "      <th>isbn</th>\n",
       "      <th>rating</th>\n",
       "    </tr>\n",
       "  </thead>\n",
       "  <tbody>\n",
       "    <tr>\n",
       "      <th>1</th>\n",
       "      <td>276726</td>\n",
       "      <td>0155061224</td>\n",
       "      <td>5</td>\n",
       "    </tr>\n",
       "    <tr>\n",
       "      <th>3</th>\n",
       "      <td>276729</td>\n",
       "      <td>052165615X</td>\n",
       "      <td>3</td>\n",
       "    </tr>\n",
       "    <tr>\n",
       "      <th>4</th>\n",
       "      <td>276729</td>\n",
       "      <td>0521795028</td>\n",
       "      <td>6</td>\n",
       "    </tr>\n",
       "    <tr>\n",
       "      <th>6</th>\n",
       "      <td>276736</td>\n",
       "      <td>3257224281</td>\n",
       "      <td>8</td>\n",
       "    </tr>\n",
       "    <tr>\n",
       "      <th>7</th>\n",
       "      <td>276737</td>\n",
       "      <td>0600570967</td>\n",
       "      <td>6</td>\n",
       "    </tr>\n",
       "    <tr>\n",
       "      <th>8</th>\n",
       "      <td>276744</td>\n",
       "      <td>038550120X</td>\n",
       "      <td>7</td>\n",
       "    </tr>\n",
       "    <tr>\n",
       "      <th>9</th>\n",
       "      <td>276745</td>\n",
       "      <td>342310538</td>\n",
       "      <td>10</td>\n",
       "    </tr>\n",
       "    <tr>\n",
       "      <th>16</th>\n",
       "      <td>276747</td>\n",
       "      <td>0060517794</td>\n",
       "      <td>9</td>\n",
       "    </tr>\n",
       "    <tr>\n",
       "      <th>19</th>\n",
       "      <td>276747</td>\n",
       "      <td>0671537458</td>\n",
       "      <td>9</td>\n",
       "    </tr>\n",
       "    <tr>\n",
       "      <th>20</th>\n",
       "      <td>276747</td>\n",
       "      <td>0679776818</td>\n",
       "      <td>8</td>\n",
       "    </tr>\n",
       "    <tr>\n",
       "      <th>21</th>\n",
       "      <td>276747</td>\n",
       "      <td>0943066433</td>\n",
       "      <td>7</td>\n",
       "    </tr>\n",
       "    <tr>\n",
       "      <th>23</th>\n",
       "      <td>276747</td>\n",
       "      <td>1885408226</td>\n",
       "      <td>7</td>\n",
       "    </tr>\n",
       "    <tr>\n",
       "      <th>24</th>\n",
       "      <td>276748</td>\n",
       "      <td>0747558167</td>\n",
       "      <td>6</td>\n",
       "    </tr>\n",
       "    <tr>\n",
       "      <th>27</th>\n",
       "      <td>276751</td>\n",
       "      <td>3596218098</td>\n",
       "      <td>8</td>\n",
       "    </tr>\n",
       "    <tr>\n",
       "      <th>28</th>\n",
       "      <td>276754</td>\n",
       "      <td>0684867621</td>\n",
       "      <td>8</td>\n",
       "    </tr>\n",
       "    <tr>\n",
       "      <th>29</th>\n",
       "      <td>276755</td>\n",
       "      <td>0451166892</td>\n",
       "      <td>5</td>\n",
       "    </tr>\n",
       "    <tr>\n",
       "      <th>30</th>\n",
       "      <td>276760</td>\n",
       "      <td>8440682697</td>\n",
       "      <td>10</td>\n",
       "    </tr>\n",
       "    <tr>\n",
       "      <th>33</th>\n",
       "      <td>276762</td>\n",
       "      <td>0380711524</td>\n",
       "      <td>5</td>\n",
       "    </tr>\n",
       "    <tr>\n",
       "      <th>44</th>\n",
       "      <td>276762</td>\n",
       "      <td>3453092007</td>\n",
       "      <td>8</td>\n",
       "    </tr>\n",
       "    <tr>\n",
       "      <th>49</th>\n",
       "      <td>276762</td>\n",
       "      <td>3453213025</td>\n",
       "      <td>3</td>\n",
       "    </tr>\n",
       "    <tr>\n",
       "      <th>55</th>\n",
       "      <td>276762</td>\n",
       "      <td>N3453124715</td>\n",
       "      <td>4</td>\n",
       "    </tr>\n",
       "    <tr>\n",
       "      <th>57</th>\n",
       "      <td>276768</td>\n",
       "      <td>9057868059</td>\n",
       "      <td>4</td>\n",
       "    </tr>\n",
       "    <tr>\n",
       "      <th>59</th>\n",
       "      <td>276772</td>\n",
       "      <td>0553572369</td>\n",
       "      <td>7</td>\n",
       "    </tr>\n",
       "    <tr>\n",
       "      <th>61</th>\n",
       "      <td>276772</td>\n",
       "      <td>3499230933</td>\n",
       "      <td>10</td>\n",
       "    </tr>\n",
       "    <tr>\n",
       "      <th>62</th>\n",
       "      <td>276772</td>\n",
       "      <td>3596151465</td>\n",
       "      <td>10</td>\n",
       "    </tr>\n",
       "    <tr>\n",
       "      <th>66</th>\n",
       "      <td>276774</td>\n",
       "      <td>3442136644</td>\n",
       "      <td>9</td>\n",
       "    </tr>\n",
       "    <tr>\n",
       "      <th>69</th>\n",
       "      <td>276780</td>\n",
       "      <td>8484330478</td>\n",
       "      <td>7</td>\n",
       "    </tr>\n",
       "    <tr>\n",
       "      <th>70</th>\n",
       "      <td>276780</td>\n",
       "      <td>8484332039</td>\n",
       "      <td>7</td>\n",
       "    </tr>\n",
       "    <tr>\n",
       "      <th>71</th>\n",
       "      <td>276786</td>\n",
       "      <td>2864322102</td>\n",
       "      <td>6</td>\n",
       "    </tr>\n",
       "    <tr>\n",
       "      <th>77</th>\n",
       "      <td>276786</td>\n",
       "      <td>8437606322</td>\n",
       "      <td>8</td>\n",
       "    </tr>\n",
       "    <tr>\n",
       "      <th>...</th>\n",
       "      <td>...</td>\n",
       "      <td>...</td>\n",
       "      <td>...</td>\n",
       "    </tr>\n",
       "    <tr>\n",
       "      <th>1149690</th>\n",
       "      <td>276688</td>\n",
       "      <td>0425156737</td>\n",
       "      <td>2</td>\n",
       "    </tr>\n",
       "    <tr>\n",
       "      <th>1149697</th>\n",
       "      <td>276688</td>\n",
       "      <td>044661193X</td>\n",
       "      <td>7</td>\n",
       "    </tr>\n",
       "    <tr>\n",
       "      <th>1149703</th>\n",
       "      <td>276688</td>\n",
       "      <td>0553074938</td>\n",
       "      <td>8</td>\n",
       "    </tr>\n",
       "    <tr>\n",
       "      <th>1149704</th>\n",
       "      <td>276688</td>\n",
       "      <td>0553074946</td>\n",
       "      <td>9</td>\n",
       "    </tr>\n",
       "    <tr>\n",
       "      <th>1149705</th>\n",
       "      <td>276688</td>\n",
       "      <td>0553088467</td>\n",
       "      <td>8</td>\n",
       "    </tr>\n",
       "    <tr>\n",
       "      <th>1149709</th>\n",
       "      <td>276688</td>\n",
       "      <td>0553089234</td>\n",
       "      <td>10</td>\n",
       "    </tr>\n",
       "    <tr>\n",
       "      <th>1149711</th>\n",
       "      <td>276688</td>\n",
       "      <td>0553566040</td>\n",
       "      <td>6</td>\n",
       "    </tr>\n",
       "    <tr>\n",
       "      <th>1149713</th>\n",
       "      <td>276688</td>\n",
       "      <td>0553572512</td>\n",
       "      <td>7</td>\n",
       "    </tr>\n",
       "    <tr>\n",
       "      <th>1149714</th>\n",
       "      <td>276688</td>\n",
       "      <td>0553575090</td>\n",
       "      <td>7</td>\n",
       "    </tr>\n",
       "    <tr>\n",
       "      <th>1149715</th>\n",
       "      <td>276688</td>\n",
       "      <td>0553575104</td>\n",
       "      <td>6</td>\n",
       "    </tr>\n",
       "    <tr>\n",
       "      <th>1149717</th>\n",
       "      <td>276688</td>\n",
       "      <td>0671015591</td>\n",
       "      <td>2</td>\n",
       "    </tr>\n",
       "    <tr>\n",
       "      <th>1149719</th>\n",
       "      <td>276688</td>\n",
       "      <td>0671563149</td>\n",
       "      <td>6</td>\n",
       "    </tr>\n",
       "    <tr>\n",
       "      <th>1149728</th>\n",
       "      <td>276688</td>\n",
       "      <td>0684195569</td>\n",
       "      <td>10</td>\n",
       "    </tr>\n",
       "    <tr>\n",
       "      <th>1149729</th>\n",
       "      <td>276688</td>\n",
       "      <td>0684804484</td>\n",
       "      <td>10</td>\n",
       "    </tr>\n",
       "    <tr>\n",
       "      <th>1149738</th>\n",
       "      <td>276688</td>\n",
       "      <td>0688156134</td>\n",
       "      <td>8</td>\n",
       "    </tr>\n",
       "    <tr>\n",
       "      <th>1149739</th>\n",
       "      <td>276688</td>\n",
       "      <td>0743202694</td>\n",
       "      <td>10</td>\n",
       "    </tr>\n",
       "    <tr>\n",
       "      <th>1149741</th>\n",
       "      <td>276688</td>\n",
       "      <td>0786011157</td>\n",
       "      <td>7</td>\n",
       "    </tr>\n",
       "    <tr>\n",
       "      <th>1149743</th>\n",
       "      <td>276688</td>\n",
       "      <td>0836218655</td>\n",
       "      <td>10</td>\n",
       "    </tr>\n",
       "    <tr>\n",
       "      <th>1149744</th>\n",
       "      <td>276688</td>\n",
       "      <td>0836236688</td>\n",
       "      <td>10</td>\n",
       "    </tr>\n",
       "    <tr>\n",
       "      <th>1149745</th>\n",
       "      <td>276688</td>\n",
       "      <td>0892966548</td>\n",
       "      <td>10</td>\n",
       "    </tr>\n",
       "    <tr>\n",
       "      <th>1149746</th>\n",
       "      <td>276688</td>\n",
       "      <td>1551669315</td>\n",
       "      <td>6</td>\n",
       "    </tr>\n",
       "    <tr>\n",
       "      <th>1149747</th>\n",
       "      <td>276688</td>\n",
       "      <td>1575660792</td>\n",
       "      <td>7</td>\n",
       "    </tr>\n",
       "    <tr>\n",
       "      <th>1149761</th>\n",
       "      <td>276704</td>\n",
       "      <td>0345386108</td>\n",
       "      <td>6</td>\n",
       "    </tr>\n",
       "    <tr>\n",
       "      <th>1149762</th>\n",
       "      <td>276704</td>\n",
       "      <td>0380796155</td>\n",
       "      <td>5</td>\n",
       "    </tr>\n",
       "    <tr>\n",
       "      <th>1149771</th>\n",
       "      <td>276704</td>\n",
       "      <td>0743211383</td>\n",
       "      <td>7</td>\n",
       "    </tr>\n",
       "    <tr>\n",
       "      <th>1149773</th>\n",
       "      <td>276704</td>\n",
       "      <td>0806917695</td>\n",
       "      <td>5</td>\n",
       "    </tr>\n",
       "    <tr>\n",
       "      <th>1149775</th>\n",
       "      <td>276704</td>\n",
       "      <td>1563526298</td>\n",
       "      <td>9</td>\n",
       "    </tr>\n",
       "    <tr>\n",
       "      <th>1149777</th>\n",
       "      <td>276709</td>\n",
       "      <td>0515107662</td>\n",
       "      <td>10</td>\n",
       "    </tr>\n",
       "    <tr>\n",
       "      <th>1149778</th>\n",
       "      <td>276721</td>\n",
       "      <td>0590442449</td>\n",
       "      <td>10</td>\n",
       "    </tr>\n",
       "    <tr>\n",
       "      <th>1149779</th>\n",
       "      <td>276723</td>\n",
       "      <td>05162443314</td>\n",
       "      <td>8</td>\n",
       "    </tr>\n",
       "  </tbody>\n",
       "</table>\n",
       "<p>433671 rows × 3 columns</p>\n",
       "</div>"
      ],
      "text/plain": [
       "         userid         isbn  rating\n",
       "1        276726   0155061224       5\n",
       "3        276729   052165615X       3\n",
       "4        276729   0521795028       6\n",
       "6        276736   3257224281       8\n",
       "7        276737   0600570967       6\n",
       "8        276744   038550120X       7\n",
       "9        276745    342310538      10\n",
       "16       276747   0060517794       9\n",
       "19       276747   0671537458       9\n",
       "20       276747   0679776818       8\n",
       "21       276747   0943066433       7\n",
       "23       276747   1885408226       7\n",
       "24       276748   0747558167       6\n",
       "27       276751   3596218098       8\n",
       "28       276754   0684867621       8\n",
       "29       276755   0451166892       5\n",
       "30       276760   8440682697      10\n",
       "33       276762   0380711524       5\n",
       "44       276762   3453092007       8\n",
       "49       276762   3453213025       3\n",
       "55       276762  N3453124715       4\n",
       "57       276768   9057868059       4\n",
       "59       276772   0553572369       7\n",
       "61       276772   3499230933      10\n",
       "62       276772   3596151465      10\n",
       "66       276774   3442136644       9\n",
       "69       276780   8484330478       7\n",
       "70       276780   8484332039       7\n",
       "71       276786   2864322102       6\n",
       "77       276786   8437606322       8\n",
       "...         ...          ...     ...\n",
       "1149690  276688   0425156737       2\n",
       "1149697  276688   044661193X       7\n",
       "1149703  276688   0553074938       8\n",
       "1149704  276688   0553074946       9\n",
       "1149705  276688   0553088467       8\n",
       "1149709  276688   0553089234      10\n",
       "1149711  276688   0553566040       6\n",
       "1149713  276688   0553572512       7\n",
       "1149714  276688   0553575090       7\n",
       "1149715  276688   0553575104       6\n",
       "1149717  276688   0671015591       2\n",
       "1149719  276688   0671563149       6\n",
       "1149728  276688   0684195569      10\n",
       "1149729  276688   0684804484      10\n",
       "1149738  276688   0688156134       8\n",
       "1149739  276688   0743202694      10\n",
       "1149741  276688   0786011157       7\n",
       "1149743  276688   0836218655      10\n",
       "1149744  276688   0836236688      10\n",
       "1149745  276688   0892966548      10\n",
       "1149746  276688   1551669315       6\n",
       "1149747  276688   1575660792       7\n",
       "1149761  276704   0345386108       6\n",
       "1149762  276704   0380796155       5\n",
       "1149771  276704   0743211383       7\n",
       "1149773  276704   0806917695       5\n",
       "1149775  276704   1563526298       9\n",
       "1149777  276709   0515107662      10\n",
       "1149778  276721   0590442449      10\n",
       "1149779  276723  05162443314       8\n",
       "\n",
       "[433671 rows x 3 columns]"
      ]
     },
     "execution_count": 40,
     "metadata": {},
     "output_type": "execute_result"
    }
   ],
   "source": [
    "explicit_data"
   ]
  },
  {
   "cell_type": "code",
   "execution_count": 42,
   "metadata": {},
   "outputs": [],
   "source": [
    "# frequency of books\n",
    "books_pref_count = explicit_data['isbn'].value_counts()\n",
    "# mark books with more than 1 user preference\n",
    "valid_books = books_pref_count > 1"
   ]
  },
  {
   "cell_type": "code",
   "execution_count": 43,
   "metadata": {},
   "outputs": [
    {
     "data": {
      "image/png": "[encoded data removed]",
      "text/plain": [
       "<Figure size 432x288 with 1 Axes>"
      ]
     },
     "metadata": {
      "needs_background": "light"
     },
     "output_type": "display_data"
    }
   ],
   "source": [
    "(explicit_data.userid.value_counts().value_counts().sort_index().cumsum()\n",
    "              .plot(logy=True, logx=True, title='Cumulative distribution of user profile length'));"
   ]
  },
  {
   "cell_type": "markdown",
   "metadata": {},
   "source": [
    "As you can see the number of users with more than 100 books in their preferences present a tiny fraction of the dataset. Let's filter them out as well as users with only a single preference."
   ]
  },
  {
   "cell_type": "code",
   "execution_count": 44,
   "metadata": {},
   "outputs": [],
   "source": [
    "users_pref_count = explicit_data['userid'].value_counts()\n",
    "valid_users = (users_pref_count > 1) & (users_pref_count < 100)"
   ]
  },
  {
   "cell_type": "code",
   "execution_count": 45,
   "metadata": {},
   "outputs": [],
   "source": [
    "valid_book_index = valid_books.index[valid_books]\n",
    "valid_user_index = valid_users.index[valid_users]\n",
    "sampled_data = explicit_data.query('isbn in @valid_book_index and userid in @valid_user_index')"
   ]
  },
  {
   "cell_type": "markdown",
   "metadata": {},
   "source": [
    "Resulting data sparsity and the number of unique entities"
   ]
  },
  {
   "cell_type": "code",
   "execution_count": 46,
   "metadata": {},
   "outputs": [
    {
     "name": "stdout",
     "output_type": "stream",
     "text": [
      "30088\n",
      "50751\n",
      "0.00012824525323865794\n"
     ]
    }
   ],
   "source": [
    "unique_user_num = sampled_data.userid.nunique()\n",
    "unique_books_num = sampled_data.isbn.nunique()\n",
    "print(unique_user_num)\n",
    "print(unique_books_num)\n",
    "print(len(sampled_data) / (unique_books_num * unique_user_num))"
   ]
  },
  {
   "cell_type": "markdown",
   "metadata": {},
   "source": [
    "# Appendix: functions for content-based model"
   ]
  },
  {
   "cell_type": "code",
   "execution_count": 48,
   "metadata": {},
   "outputs": [],
   "source": [
    "from polara.lib.similarity import combine_similarity_data"
   ]
  },
  {
   "cell_type": "code",
   "execution_count": 49,
   "metadata": {},
   "outputs": [],
   "source": [
    "meta_info = (bx_books_meta.query('isbn in @valid_book_index').set_index('isbn').fillna('')\n",
    "                          .applymap(lambda x: x.split(',') if len(x) else [])\n",
    "                          .reindex(sampled_data.isbn.unique(), fill_value=[])) # avoid missing isbn index in similarity data"
   ]
  },
  {
   "cell_type": "code",
   "execution_count": 50,
   "metadata": {},
   "outputs": [
    {
     "data": {
      "text/html": [
       "<div>\n",
       "<style scoped>\n",
       "    .dataframe tbody tr th:only-of-type {\n",
       "        vertical-align: middle;\n",
       "    }\n",
       "\n",
       "    .dataframe tbody tr th {\n",
       "        vertical-align: top;\n",
       "    }\n",
       "\n",
       "    .dataframe thead th {\n",
       "        text-align: right;\n",
       "    }\n",
       "</style>\n",
       "<table border=\"1\" class=\"dataframe\">\n",
       "  <thead>\n",
       "    <tr style=\"text-align: right;\">\n",
       "      <th></th>\n",
       "      <th>author</th>\n",
       "      <th>publisher</th>\n",
       "    </tr>\n",
       "    <tr>\n",
       "      <th>isbn</th>\n",
       "      <th></th>\n",
       "      <th></th>\n",
       "    </tr>\n",
       "  </thead>\n",
       "  <tbody>\n",
       "    <tr>\n",
       "      <th>0060517794</th>\n",
       "      <td>[Rebecca Wells]</td>\n",
       "      <td>[HarperTorch]</td>\n",
       "    </tr>\n",
       "    <tr>\n",
       "      <th>0671537458</th>\n",
       "      <td>[Terry McMillan]</td>\n",
       "      <td>[Pocket]</td>\n",
       "    </tr>\n",
       "    <tr>\n",
       "      <th>0679776818</th>\n",
       "      <td>[Sebastian Faulks]</td>\n",
       "      <td>[Vintage Books USA]</td>\n",
       "    </tr>\n",
       "    <tr>\n",
       "      <th>0380711524</th>\n",
       "      <td>[Joy Fielding]</td>\n",
       "      <td>[Avon]</td>\n",
       "    </tr>\n",
       "    <tr>\n",
       "      <th>3453092007</th>\n",
       "      <td>[Dean Koontz]</td>\n",
       "      <td>[Heyne]</td>\n",
       "    </tr>\n",
       "  </tbody>\n",
       "</table>\n",
       "</div>"
      ],
      "text/plain": [
       "                        author            publisher\n",
       "isbn                                               \n",
       "0060517794     [Rebecca Wells]        [HarperTorch]\n",
       "0671537458    [Terry McMillan]             [Pocket]\n",
       "0679776818  [Sebastian Faulks]  [Vintage Books USA]\n",
       "0380711524      [Joy Fielding]               [Avon]\n",
       "3453092007       [Dean Koontz]              [Heyne]"
      ]
     },
     "execution_count": 50,
     "metadata": {},
     "output_type": "execute_result"
    }
   ],
   "source": [
    "meta_info.head()"
   ]
  },
  {
   "cell_type": "markdown",
   "metadata": {},
   "source": [
    "## Different ways to build similarity matrix"
   ]
  },
  {
   "cell_type": "markdown",
   "metadata": {},
   "source": [
    "### Weighted similarity"
   ]
  },
  {
   "cell_type": "code",
   "execution_count": 51,
   "metadata": {},
   "outputs": [],
   "source": [
    "jw = 'jaccard-weighted'\n",
    "jd = 'jaccard'\n",
    "cs = 'cosine'\n",
    "tc = 'tfidf-cosine'\n",
    "\n",
    "sim_type = {'publisher':cs, 'author':cs}\n",
    "item_similarity = combine_similarity_data(meta_info[list(sim_type.keys())], similarity_type=sim_type, weights=None)"
   ]
  },
  {
   "cell_type": "code",
   "execution_count": 52,
   "metadata": {},
   "outputs": [
    {
     "data": {
      "text/plain": [
       "<50751x50751 sparse matrix of type '<class 'numpy.float64'>'\n",
       "\twith 14358235 stored elements in Compressed Sparse Column format>"
      ]
     },
     "execution_count": 52,
     "metadata": {},
     "output_type": "execute_result"
    }
   ],
   "source": [
    "item_similarity"
   ]
  },
  {
   "cell_type": "markdown",
   "metadata": {},
   "source": [
    "### All-at-once similarity"
   ]
  },
  {
   "cell_type": "code",
   "execution_count": 53,
   "metadata": {},
   "outputs": [],
   "source": [
    "from polara.lib.similarity import get_similarity_data"
   ]
  },
  {
   "cell_type": "code",
   "execution_count": 54,
   "metadata": {},
   "outputs": [],
   "source": [
    "all_features = meta_info.author.combine(meta_info.publisher, lambda x, y: x+y).to_frame('all_features')"
   ]
  },
  {
   "cell_type": "code",
   "execution_count": 55,
   "metadata": {},
   "outputs": [
    {
     "data": {
      "text/plain": [
       "<50751x50751 sparse matrix of type '<class 'numpy.float64'>'\n",
       "\twith 14359687 stored elements in Compressed Sparse Column format>"
      ]
     },
     "execution_count": 55,
     "metadata": {},
     "output_type": "execute_result"
    }
   ],
   "source": [
    "all_similarity = get_similarity_data(all_features, similarity_type=tc)['all_features']\n",
    "all_similarity"
   ]
  },
  {
   "cell_type": "markdown",
   "metadata": {},
   "source": [
    "## Preparing data model"
   ]
  },
  {
   "cell_type": "markdown",
   "metadata": {},
   "source": [
    "Let's first define a new data model with the necessary functionality."
   ]
  },
  {
   "cell_type": "code",
   "execution_count": 56,
   "metadata": {},
   "outputs": [],
   "source": [
    "from polara import RecommenderData\n",
    "from polara.recommender.coldstart.data import FeatureSimilarityMixin"
   ]
  },
  {
   "cell_type": "code",
   "execution_count": 57,
   "metadata": {},
   "outputs": [],
   "source": [
    "# new class to mix in the similarity data\n",
    "class SimilarityDataModel(FeatureSimilarityMixin, RecommenderData): \n",
    "    pass"
   ]
  },
  {
   "cell_type": "code",
   "execution_count": 58,
   "metadata": {},
   "outputs": [],
   "source": [
    "similarities = {'userid': None, 'isbn': item_similarity}\n",
    "sim_indices = {'userid': None, 'isbn': meta_info.index}"
   ]
  },
  {
   "cell_type": "code",
   "execution_count": 59,
   "metadata": {},
   "outputs": [],
   "source": [
    "data_model = SimilarityDataModel(similarities, sim_indices,\n",
    "                                 sampled_data, 'userid', 'isbn', 'rating',\n",
    "                                 seed=42) "
   ]
  },
  {
   "cell_type": "code",
   "execution_count": 60,
   "metadata": {},
   "outputs": [
    {
     "name": "stdout",
     "output_type": "stream",
     "text": [
      "Preparing data...\n",
      "2587 unique isbn's within 2883 testset interactions were filtered. Reason: not in the training data.\n",
      "1638 unique isbn's within 1749 holdout interactions were filtered. Reason: not in the training data.\n",
      "3356 of 5814 userid's were filtered out from holdout. Reason: incompatible number of items.\n",
      "621 userid's were filtered out from holdout. Reason: inconsistent with testset.\n",
      "720 userid's were filtered out from testset. Reason: inconsistent with holdout.\n",
      "Done.\n",
      "There are 156787 events in the training and 5511 events in the holdout.\n"
     ]
    }
   ],
   "source": [
    "data_model.random_holdout = True\n",
    "data_model.holdout_size = 3\n",
    "data_model.warm_start = True\n",
    "switch_positive = 7\n",
    "data_model.prepare()"
   ]
  },
  {
   "cell_type": "code",
   "execution_count": 61,
   "metadata": {},
   "outputs": [
    {
     "name": "stdout",
     "output_type": "stream",
     "text": [
      "Updating isbn similarity matrix\n"
     ]
    },
    {
     "data": {
      "text/plain": [
       "<46850x46850 sparse matrix of type '<class 'numpy.float64'>'\n",
       "\twith 12463416 stored elements in Compressed Sparse Column format>"
      ]
     },
     "execution_count": 61,
     "metadata": {},
     "output_type": "execute_result"
    }
   ],
   "source": [
    "data_model.item_similarity"
   ]
  },
  {
   "cell_type": "code",
   "execution_count": 62,
   "metadata": {},
   "outputs": [],
   "source": [
    "from polara import RecommenderModel\n",
    "\n",
    "def informedness(score):\n",
    "    return score.recall-score.fallout\n",
    "\n",
    "class ContentBased(RecommenderModel):\n",
    "    def __init__(self, *args, **kwargs):\n",
    "        super(ContentBased, self).__init__(*args, **kwargs)\n",
    "        self.method = \"CB\"\n",
    "    \n",
    "    def build(self, *args, **kwargs):\n",
    "        self.data.item_similarity.setdiag(0) # get the name of the column, that corresponds to movieid\n",
    "        \n",
    "        \n",
    "    def slice_recommendations(self, test_data, shape, start, stop, test_users=None):\n",
    "        test_matrix, slice_data = self.get_test_matrix(test_data, shape, (start, stop))\n",
    "        scores = test_matrix.dot(self.data.item_similarity)\n",
    "        return scores, slice_data\n"
   ]
  },
  {
   "cell_type": "code",
   "execution_count": 63,
   "metadata": {},
   "outputs": [],
   "source": [
    "contentbased = ContentBased(data_model)"
   ]
  },
  {
   "cell_type": "code",
   "execution_count": 64,
   "metadata": {},
   "outputs": [],
   "source": [
    "recs = contentbased.get_recommendations()"
   ]
  },
  {
   "cell_type": "code",
   "execution_count": 79,
   "metadata": {},
   "outputs": [],
   "source": [
    "from polara.lib.optimize import sgd_step\n",
    "from math import sqrt\n",
    "import numpy as np"
   ]
  },
  {
   "cell_type": "code",
   "execution_count": 80,
   "metadata": {},
   "outputs": [],
   "source": [
    "def unbiased_sgdmf(user_idx, item_idx, feedback,\n",
    "                   rank=10, lrate=0.005, reg=0.05,\n",
    "                   num_epochs=25, tol=1e-4,\n",
    "                   seed=None, verbose=True,\n",
    "                   folding_in=False, Q=None):\n",
    "    \n",
    "    '''The main function to iterate over epochs in SGD approach.\n",
    "    '''\n",
    "    n_users = user_idx.max() + 1\n",
    "    n_items = item_idx.max() + 1\n",
    "    \n",
    "    # initialization with random numbers\n",
    "    random_state = np.random.RandomState(seed) if seed else np.random\n",
    "    P = random_state.normal(scale=0.1, size=(n_users, rank))\n",
    "    if not folding_in:\n",
    "        Q = random_state.normal(scale=0.1, size=(n_items, rank))\n",
    "        \n",
    "    last_err = np.finfo(np.float64).max\n",
    "    for epoch in range(num_epochs):\n",
    "        # make a single SGD step\n",
    "        if folding_in:\n",
    "            new_err = sgd_folding_step(user_idx, item_idx, feedback, P, Q, lrate, reg)\n",
    "        else:\n",
    "            new_err = sgd_step(user_idx, item_idx, feedback, P, Q, lrate, reg)\n",
    "        \n",
    "        # control the progress by calculating error\n",
    "        err_delta = abs(last_err - new_err) / last_err\n",
    "        \n",
    "        if verbose:\n",
    "            rmse = sqrt(new_err / len(feedback))\n",
    "            print('Epoch {} RMSE: {}'.format(epoch+1, rmse))\n",
    "        \n",
    "        last_err = new_err\n",
    "        if err_delta < tol:\n",
    "            break\n",
    "    return P, Q"
   ]
  },
  {
   "cell_type": "code",
   "execution_count": 81,
   "metadata": {},
   "outputs": [],
   "source": [
    "def sgd_folding_step(users_idx, items_idx, feedbacks, P, Q, eta, lambd):\n",
    "    cum_error = 0\n",
    "    for k, a in enumerate(feedbacks):\n",
    "        i = users_idx[k]\n",
    "        j = items_idx[k]\n",
    "\n",
    "        pi = P[i, :]\n",
    "        qj = Q[j, :]\n",
    "\n",
    "        e = a - np.dot(pi, qj)\n",
    "\n",
    "        new_pi = pi + eta * (e*qj - lambd*pi)\n",
    "\n",
    "        P[i, :] = new_pi\n",
    "\n",
    "        cum_error += e*e\n",
    "    return cum_error"
   ]
  },
  {
   "cell_type": "code",
   "execution_count": 82,
   "metadata": {},
   "outputs": [],
   "source": [
    "class SGDMatrixFactorization(RecommenderModel):\n",
    "    '''This is a full implementation of the basic\n",
    "    matrix factorization based on stochastic gradient descent.\n",
    "    It uses folding-in approach to recommend items for test users.'''\n",
    "    \n",
    "    def __init__(self, *args, **kwargs):\n",
    "        super(SGDMatrixFactorization, self).__init__(*args, **kwargs)\n",
    "        self.rank = 10\n",
    "        self.lrate = 0.005 # learning rate\n",
    "        self.reg = 0.05 # regularization constant\n",
    "        self.num_epochs = 25\n",
    "        self.tol = 1e-4\n",
    "        self.verbose = True\n",
    "        self.seed = 0\n",
    "        self.method = 'SGD-MF'\n",
    "        self.factors = dict.fromkeys(self.data.fields[:2]) # for user and item factors\n",
    "    \n",
    "    def build(self):\n",
    "        userid, itemid, feedback = self.data.fields\n",
    "        \n",
    "        trainset = self.data.training.sample(frac=1, random_state=self.seed) # shuffle data\n",
    "        useridx = trainset[userid].values\n",
    "        itemidx = trainset[itemid].values\n",
    "        feedback = trainset[feedback].values\n",
    "        # sgd learning parameters\n",
    "        config = dict(rank=self.rank,\n",
    "                      lrate=self.lrate,\n",
    "                      reg=self.reg,\n",
    "                      num_epochs=self.num_epochs,\n",
    "                      tol=self.tol,\n",
    "                      seed=self.seed,\n",
    "                      verbose=self.verbose)\n",
    "        # performing sgd\n",
    "        user_factors, item_factors = unbiased_sgdmf(useridx, itemidx, feedback,\n",
    "                                                    **config)\n",
    "        # store learned factor matrices\n",
    "        self.factors[userid] = user_factors\n",
    "        self.factors[itemid] = item_factors\n",
    "    \n",
    "    def slice_recommendations(self, test_data, shape, start, stop, test_users=None):\n",
    "        test_matrix, slice_data = self.get_test_matrix(test_data, shape, (start,stop))\n",
    "        \n",
    "        Q = self.factors[self.data.fields.itemid]\n",
    "        \n",
    "        config = dict(rank=self.rank,\n",
    "                      lrate=self.lrate,\n",
    "                      reg=self.reg,\n",
    "                      num_epochs=self.num_epochs,\n",
    "                      tol=self.tol,\n",
    "                      seed=self.seed,\n",
    "                      verbose=self.verbose)\n",
    "\n",
    "        useridx, itemidx, feedback = slice_data\n",
    "        \n",
    "        p,q = unbiased_sgdmf(useridx, itemidx, feedback,\n",
    "                            **config, folding_in=True, Q=Q)\n",
    "                \n",
    "        scores = p.dot(q.T)\n",
    "        \n",
    "        return scores, slice_data"
   ]
  },
  {
   "cell_type": "code",
   "execution_count": 83,
   "metadata": {},
   "outputs": [],
   "source": [
    "from polara.evaluation.pipelines import find_optimal_svd_rank, find_optimal_config, random_grid, evaluate_models\n",
    "from tqdm import tqdm_notebook"
   ]
  },
  {
   "cell_type": "code",
   "execution_count": 84,
   "metadata": {},
   "outputs": [],
   "source": [
    "from polara.recommender.models import SVDModel\n",
    "import matplotlib.pyplot as plt"
   ]
  },
  {
   "cell_type": "code",
   "execution_count": 91,
   "metadata": {},
   "outputs": [],
   "source": [
    "svd = SVDModel(data_model)\n",
    "svd_min_rank = 300\n",
    "svd_max_rank= 350\n",
    "svd_step = 2\n",
    "dummy_params = {\"1\":[1]}"
   ]
  },
  {
   "cell_type": "code",
   "execution_count": 92,
   "metadata": {},
   "outputs": [
    {
     "name": "stdout",
     "output_type": "stream",
     "text": [
      "PureSVD training time: 77.89448555100012s\n"
     ]
    },
    {
     "data": {
      "application/vnd.jupyter.widget-view+json": {
       "model_id": "bc680fdb94174834b1bd30752e877956",
       "version_major": 2,
       "version_minor": 0
      },
      "text/plain": [
       "HBox(children=(IntProgress(value=0, max=25), HTML(value='')))"
      ]
     },
     "metadata": {},
     "output_type": "display_data"
    }
   ],
   "source": [
    "svd_rank, svd_score = find_optimal_svd_rank(svd, range(svd_min_rank, svd_max_rank,svd_step), informedness,\n",
    "                                              return_scores=True, verbose=True, ranger=tqdm_notebook,\n",
    "                                              switch_positive=switch_positive)"
   ]
  },
  {
   "cell_type": "code",
   "execution_count": 103,
   "metadata": {},
   "outputs": [],
   "source": [
    "svd_best_score = svd_score[svd_rank]"
   ]
  },
  {
   "cell_type": "code",
   "execution_count": 93,
   "metadata": {},
   "outputs": [
    {
     "data": {
      "application/vnd.jupyter.widget-view+json": {
       "model_id": "eb59f4b495004fb7bcab37c9f6d72246",
       "version_major": 2,
       "version_minor": 0
      },
      "text/plain": [
       "HBox(children=(IntProgress(value=0, max=1), HTML(value='')))"
      ]
     },
     "metadata": {},
     "output_type": "display_data"
    }
   ],
   "source": [
    "dummy_params = {\"1\":[1]}\n",
    "con_param, con_score = find_optimal_config(contentbased, *random_grid(dummy_params), target_metric=informedness,  \n",
    "                                return_scores=True, verbose=True, ranger=tqdm_notebook,\n",
    "                                switch_positive=switch_positive)"
   ]
  },
  {
   "cell_type": "code",
   "execution_count": 94,
   "metadata": {
    "scrolled": true
   },
   "outputs": [],
   "source": [
    "con_best_score = con_score[con_param]"
   ]
  },
  {
   "cell_type": "code",
   "execution_count": 95,
   "metadata": {},
   "outputs": [
    {
     "name": "stdout",
     "output_type": "stream",
     "text": [
      "Epoch 1 RMSE: 7.823338127967977\n",
      "Epoch 2 RMSE: 7.815191786013244\n",
      "Epoch 3 RMSE: 7.804370385574205\n",
      "Epoch 4 RMSE: 7.7843525161844935\n",
      "Epoch 5 RMSE: 7.732819646089852\n",
      "Epoch 6 RMSE: 7.594917619675917\n",
      "Epoch 7 RMSE: 7.333223557637691\n",
      "Epoch 8 RMSE: 6.979373194706189\n",
      "Epoch 9 RMSE: 6.581711491274786\n",
      "Epoch 10 RMSE: 6.175884982179125\n",
      "Epoch 11 RMSE: 5.78187740640107\n",
      "Epoch 12 RMSE: 5.409929446619358\n",
      "Epoch 13 RMSE: 5.064603166297924\n",
      "Epoch 14 RMSE: 4.746882872211445\n",
      "Epoch 15 RMSE: 4.455783469945883\n",
      "Epoch 16 RMSE: 4.189439386047139\n",
      "Epoch 17 RMSE: 3.94566841719236\n",
      "Epoch 18 RMSE: 3.7222312691293453\n",
      "Epoch 19 RMSE: 3.5169830724718323\n",
      "Epoch 20 RMSE: 3.327974467911102\n",
      "Epoch 21 RMSE: 3.153482864743934\n",
      "Epoch 22 RMSE: 2.991999060058695\n",
      "Epoch 23 RMSE: 2.8422089236730526\n",
      "Epoch 24 RMSE: 2.7029770346661097\n",
      "Epoch 25 RMSE: 2.5733243227217097\n",
      "Epoch 1 RMSE: 6.765393820344572\n",
      "Epoch 2 RMSE: 5.381935947587145\n",
      "Epoch 3 RMSE: 4.711639638574168\n",
      "Epoch 4 RMSE: 4.296795007545764\n",
      "Epoch 5 RMSE: 4.011683614828194\n",
      "Epoch 6 RMSE: 3.8032604749640755\n",
      "Epoch 7 RMSE: 3.644205474105302\n",
      "Epoch 8 RMSE: 3.5188355006535628\n",
      "Epoch 9 RMSE: 3.417475142147713\n",
      "Epoch 10 RMSE: 3.333826185797241\n",
      "Epoch 11 RMSE: 3.2636109613263065\n",
      "Epoch 12 RMSE: 3.2038214555155133\n",
      "Epoch 13 RMSE: 3.1522802800203773\n",
      "Epoch 14 RMSE: 3.1073722157646513\n",
      "Epoch 15 RMSE: 3.067873739869286\n",
      "Epoch 16 RMSE: 3.032841192839283\n",
      "Epoch 17 RMSE: 3.0015353009595795\n",
      "Epoch 18 RMSE: 2.97336894490905\n",
      "Epoch 19 RMSE: 2.9478702048365655\n",
      "Epoch 20 RMSE: 2.924655692851877\n",
      "Epoch 21 RMSE: 2.903410966912323\n",
      "Epoch 22 RMSE: 2.8838759166114456\n",
      "Epoch 23 RMSE: 2.8658337028040166\n",
      "Epoch 24 RMSE: 2.849102279028957\n",
      "Epoch 25 RMSE: 2.8335278164576567\n",
      "Epoch 1 RMSE: 6.797108397474458\n",
      "Epoch 2 RMSE: 5.357271441837813\n",
      "Epoch 3 RMSE: 4.68124055446174\n",
      "Epoch 4 RMSE: 4.278708201250035\n",
      "Epoch 5 RMSE: 4.006316701824624\n",
      "Epoch 6 RMSE: 3.80790771098282\n",
      "Epoch 7 RMSE: 3.656374381388974\n",
      "Epoch 8 RMSE: 3.5367032675226944\n",
      "Epoch 9 RMSE: 3.439767602622475\n",
      "Epoch 10 RMSE: 3.3596438759186267\n",
      "Epoch 11 RMSE: 3.292299533507125\n",
      "Epoch 12 RMSE: 3.2348880884132534\n",
      "Epoch 13 RMSE: 3.185342071161777\n",
      "Epoch 14 RMSE: 3.1421243774690177\n",
      "Epoch 15 RMSE: 3.104069525803579\n",
      "Epoch 16 RMSE: 3.07027868867204\n",
      "Epoch 17 RMSE: 3.0400482676589715\n",
      "Epoch 18 RMSE: 3.0128201210942236\n",
      "Epoch 19 RMSE: 2.9881461686578037\n",
      "Epoch 20 RMSE: 2.9656627710518726\n",
      "Epoch 21 RMSE: 2.945071892244099\n",
      "Epoch 22 RMSE: 2.9261270520760383\n",
      "Epoch 23 RMSE: 2.908622715855262\n",
      "Epoch 24 RMSE: 2.892386185103138\n",
      "Epoch 25 RMSE: 2.87727133209152\n",
      "Epoch 1 RMSE: 6.6705793367568536\n",
      "Epoch 2 RMSE: 5.2315653221029805\n",
      "Epoch 3 RMSE: 4.60239318214169\n",
      "Epoch 4 RMSE: 4.232146982171714\n",
      "Epoch 5 RMSE: 3.9812013318123083\n",
      "Epoch 6 RMSE: 3.797898334707131\n",
      "Epoch 7 RMSE: 3.6575251329765126\n",
      "Epoch 8 RMSE: 3.5463170084678812\n",
      "Epoch 9 RMSE: 3.4558717667143983\n",
      "Epoch 10 RMSE: 3.380741855222819\n",
      "Epoch 11 RMSE: 3.317236861414938\n",
      "Epoch 12 RMSE: 3.262768552324476\n",
      "Epoch 13 RMSE: 3.2154685153417994\n",
      "Epoch 14 RMSE: 3.1739541049621525\n",
      "Epoch 15 RMSE: 3.137179790711453\n",
      "Epoch 16 RMSE: 3.104339819758422\n",
      "Epoch 17 RMSE: 3.0748027701761314\n",
      "Epoch 18 RMSE: 3.048066491521117\n",
      "Epoch 19 RMSE: 3.0237264059926274\n",
      "Epoch 20 RMSE: 3.0014527640747213\n",
      "Epoch 21 RMSE: 2.9809740271881777\n",
      "Epoch 22 RMSE: 2.962064524225505\n",
      "Epoch 23 RMSE: 2.9445351433342393\n",
      "Epoch 24 RMSE: 2.9282262155931655\n",
      "Epoch 25 RMSE: 2.913002006245331\n"
     ]
    },
    {
     "data": {
      "text/plain": [
       "array([[29191,  7308, 11465, ..., 43943, 45904, 19360],\n",
       "       [ 2783, 30163, 28674, ...,  2246,  3280, 29692],\n",
       "       [ 8919, 36081, 18655, ...,  3664, 24145,  8492],\n",
       "       ...,\n",
       "       [28674,  1556, 30163, ...,  7344,  2783, 10992],\n",
       "       [16964,  2783, 13573, ...,  8063, 28393, 14600],\n",
       "       [ 1556, 25898,  8463, ...,  1542,  5297, 28921]])"
      ]
     },
     "execution_count": 95,
     "metadata": {},
     "output_type": "execute_result"
    }
   ],
   "source": [
    "mf_model = SGDMatrixFactorization(data_model)\n",
    "mf_model.build()\n",
    "mf_model.get_recommendations()"
   ]
  },
  {
   "cell_type": "code",
   "execution_count": 96,
   "metadata": {},
   "outputs": [
    {
     "data": {
      "application/vnd.jupyter.widget-view+json": {
       "model_id": "873ce43e50394e6d8e39fe5439aefe30",
       "version_major": 2,
       "version_minor": 0
      },
      "text/plain": [
       "HBox(children=(IntProgress(value=0, max=60), HTML(value='')))"
      ]
     },
     "metadata": {},
     "output_type": "display_data"
    }
   ],
   "source": [
    "mf_params = {'rank': range(320,400,2),\n",
    "            'lrate': [0.003, 0.001],\n",
    "            'reg': [0.03, 0.3],\n",
    "            'num_epochs':[40, 60, 80],\n",
    "            'tol': [1e-3]\n",
    "            }\n",
    "mf_param, mf_score = find_optimal_config(mf_model, *random_grid(mf_params, n=60), target_metric=informedness,  \n",
    "                                         return_scores=True, ranger=tqdm_notebook, force_build=True,\n",
    "                                         switch_positive=switch_positive)"
   ]
  },
  {
   "cell_type": "code",
   "execution_count": 97,
   "metadata": {},
   "outputs": [],
   "source": [
    "mf_best_score = mf_score.max()"
   ]
  },
  {
   "cell_type": "code",
   "execution_count": 104,
   "metadata": {},
   "outputs": [
    {
     "name": "stdout",
     "output_type": "stream",
     "text": [
      "0.03556523317002359\n",
      "0.033932135728542916\n",
      "0.03139176193068409\n"
     ]
    }
   ],
   "source": [
    "print(svd_best_score)\n",
    "print(mf_best_score)\n",
    "print(con_best_score)"
   ]
  }
 ],
 "metadata": {
  "kernelspec": {
   "display_name": "Python 3",
   "language": "python",
   "name": "python3"
  },
  "language_info": {
   "codemirror_mode": {
    "name": "ipython",
    "version": 3
   },
   "file_extension": ".py",
   "mimetype": "text/x-python",
   "name": "python",
   "nbconvert_exporter": "python",
   "pygments_lexer": "ipython3",
   "version": "3.5.2"
  }
 },
 "nbformat": 4,
 "nbformat_minor": 2
}
